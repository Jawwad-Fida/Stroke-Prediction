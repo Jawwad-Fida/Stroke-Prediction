{
  "nbformat": 4,
  "nbformat_minor": 0,
  "metadata": {
    "colab": {
      "name": "Data Preprocessing and Model Building.ipynb",
      "provenance": [],
      "collapsed_sections": []
    },
    "kernelspec": {
      "name": "python3",
      "display_name": "Python 3"
    },
    "language_info": {
      "name": "python"
    }
  },
  "cells": [
    {
      "cell_type": "code",
      "source": [
        "\"\"\"\n",
        "Pattern Lab Project - Team Kingsmen\n",
        "\n",
        "Name: Mohammed Jawwadul Islam     \t\n",
        "ID: 011 181 182\n",
        "UIU Official Email: mislam181182@bscse.uiu.ac.bd\n",
        "\n",
        "Name: MD Fahad Al Rafi                                  \n",
        "ID: 011 181 201\n",
        "UIU Official Email: mrafi181201@bscse.uiu.ac.bd \n",
        "\n",
        "Name: Pranto Podder                                  \t  \n",
        "ID: 011 181 202\n",
        "UIU Official Email: ppodder181202@bscse.uiu.ac.bd\n",
        "\"\"\""
      ],
      "metadata": {
        "colab": {
          "base_uri": "https://localhost:8080/",
          "height": 53
        },
        "id": "uIt98gHB1Ira",
        "outputId": "2f56132d-ff4f-4fdc-ddd9-ae058d5e6413"
      },
      "execution_count": 1,
      "outputs": [
        {
          "output_type": "execute_result",
          "data": {
            "application/vnd.google.colaboratory.intrinsic+json": {
              "type": "string"
            },
            "text/plain": [
              "'\\nPattern Lab Project - Team Kingsmen\\n\\nName: Mohammed Jawwadul Islam     \\t\\nID: 011 181 182\\nUIU Official Email: mislam181182@bscse.uiu.ac.bd\\n\\nName: MD Fahad Al Rafi                                  \\nID: 011 181 201\\nUIU Official Email: mrafi181201@bscse.uiu.ac.bd \\n\\nName: Pranto Podder                                  \\t  \\nID: 011 181 202\\nUIU Official Email: ppodder181202@bscse.uiu.ac.bd\\n'"
            ]
          },
          "metadata": {},
          "execution_count": 1
        }
      ]
    },
    {
      "cell_type": "markdown",
      "source": [
        "## Importing the Libraies"
      ],
      "metadata": {
        "id": "7uZHjJuMxAjg"
      }
    },
    {
      "cell_type": "code",
      "execution_count": null,
      "metadata": {
        "id": "qHeUv19AtXbK"
      },
      "outputs": [],
      "source": [
        "%matplotlib inline\n",
        "import matplotlib.pyplot as plt\n",
        "import seaborn as sns\n",
        "\n",
        "import numpy as np\n",
        "import pandas as pd\n",
        "\n",
        "import warnings\n",
        "warnings.filterwarnings('ignore')\n",
        "\n",
        "from collections import Counter"
      ]
    },
    {
      "cell_type": "markdown",
      "source": [
        "## Reading the dataset"
      ],
      "metadata": {
        "id": "uCnsxn6jxDHC"
      }
    },
    {
      "cell_type": "code",
      "source": [
        "data = pd.read_csv('healthcare-dataset-stroke-data.csv', na_values='N/A')"
      ],
      "metadata": {
        "id": "dszcrgINthsX"
      },
      "execution_count": null,
      "outputs": []
    },
    {
      "cell_type": "code",
      "source": [
        "# Removing \" \" empty space between feature values  \n",
        "\n",
        "from pandas.api.types import is_string_dtype\n",
        "\n",
        "for column in data.columns:\n",
        "    if (is_string_dtype(data[column].dtype)):\n",
        "        data[column] = data[column].str.strip()"
      ],
      "metadata": {
        "id": "BY4n4-aWtoJy"
      },
      "execution_count": null,
      "outputs": []
    },
    {
      "cell_type": "code",
      "source": [
        "X = data.loc[:, data.columns != 'stroke']\n",
        "y = data['stroke']"
      ],
      "metadata": {
        "id": "UAWL8NzWtrCS"
      },
      "execution_count": null,
      "outputs": []
    },
    {
      "cell_type": "code",
      "source": [
        "print(X.shape, y.shape)"
      ],
      "metadata": {
        "colab": {
          "base_uri": "https://localhost:8080/"
        },
        "id": "bMNGuq6WtxQT",
        "outputId": "9ca81199-58a2-4756-91bb-ef685cde95f9"
      },
      "execution_count": null,
      "outputs": [
        {
          "output_type": "stream",
          "name": "stdout",
          "text": [
            "(5110, 11) (5110,)\n"
          ]
        }
      ]
    },
    {
      "cell_type": "code",
      "source": [
        "from sklearn.model_selection import train_test_split\n",
        "\n",
        "X_train, X_test, y_train, y_test = train_test_split(X, y, test_size=0.20, random_state=0)\n",
        "\n",
        "# Train - 80% , Test - 20%"
      ],
      "metadata": {
        "id": "ont89pKet4aq"
      },
      "execution_count": null,
      "outputs": []
    },
    {
      "cell_type": "code",
      "source": [
        "print(X_train.shape, X_test.shape, y_train.shape, y_test.shape)"
      ],
      "metadata": {
        "colab": {
          "base_uri": "https://localhost:8080/"
        },
        "id": "Dvqkj34nt6pO",
        "outputId": "2bffbfff-45d6-489e-e042-e09ee0d37daf"
      },
      "execution_count": null,
      "outputs": [
        {
          "output_type": "stream",
          "name": "stdout",
          "text": [
            "(4088, 11) (1022, 11) (4088,) (1022,)\n"
          ]
        }
      ]
    },
    {
      "cell_type": "markdown",
      "source": [
        "## Data Preprocessing"
      ],
      "metadata": {
        "id": "S4a5qA18I1jd"
      }
    },
    {
      "cell_type": "markdown",
      "source": [
        "### Handling Missing Values"
      ],
      "metadata": {
        "id": "Brew-_pBxKLU"
      }
    },
    {
      "cell_type": "markdown",
      "source": [
        "#### Simple Imputation by Sklearn - Mean/Median/Most Frequent"
      ],
      "metadata": {
        "id": "_Qlx6xLVxMwl"
      }
    },
    {
      "cell_type": "code",
      "source": [
        "from sklearn.impute import SimpleImputer"
      ],
      "metadata": {
        "id": "H_Giy_wqt8j3"
      },
      "execution_count": null,
      "outputs": []
    },
    {
      "cell_type": "code",
      "source": [
        "si_X_train = pd.DataFrame() # create a new dataframe to save the train dataset\n",
        "si_X_test = pd.DataFrame() # create a new dataframe to save the test dataset"
      ],
      "metadata": {
        "id": "mSOCerzQuAZs"
      },
      "execution_count": null,
      "outputs": []
    },
    {
      "cell_type": "code",
      "source": [
        "for column in X_train.columns:\n",
        "  if (is_string_dtype(X_train[column].dtype)):\n",
        "    si = SimpleImputer(strategy='most_frequent')\n",
        "  else:\n",
        "    si = SimpleImputer(strategy='median')\n",
        "  si.fit(X_train[[column]])\n",
        "  si_X_train[column] = si.transform(X_train[[column]]).flatten() # Flatten 2D matrix to 1D \n",
        "  si_X_test[column] = si.transform(X_test[[column]]).flatten()"
      ],
      "metadata": {
        "id": "v9ljG-iCuBgc"
      },
      "execution_count": null,
      "outputs": []
    },
    {
      "cell_type": "code",
      "source": [
        "si_X_train"
      ],
      "metadata": {
        "colab": {
          "base_uri": "https://localhost:8080/",
          "height": 424
        },
        "id": "gFJxt8BruDBx",
        "outputId": "727494ed-0ddd-4140-eb56-2b04240b57b3"
      },
      "execution_count": null,
      "outputs": [
        {
          "output_type": "execute_result",
          "data": {
            "text/html": [
              "\n",
              "  <div id=\"df-526ca503-1897-47a0-a808-726686da4b2f\">\n",
              "    <div class=\"colab-df-container\">\n",
              "      <div>\n",
              "<style scoped>\n",
              "    .dataframe tbody tr th:only-of-type {\n",
              "        vertical-align: middle;\n",
              "    }\n",
              "\n",
              "    .dataframe tbody tr th {\n",
              "        vertical-align: top;\n",
              "    }\n",
              "\n",
              "    .dataframe thead th {\n",
              "        text-align: right;\n",
              "    }\n",
              "</style>\n",
              "<table border=\"1\" class=\"dataframe\">\n",
              "  <thead>\n",
              "    <tr style=\"text-align: right;\">\n",
              "      <th></th>\n",
              "      <th>id</th>\n",
              "      <th>gender</th>\n",
              "      <th>age</th>\n",
              "      <th>hypertension</th>\n",
              "      <th>heart_disease</th>\n",
              "      <th>ever_married</th>\n",
              "      <th>work_type</th>\n",
              "      <th>Residence_type</th>\n",
              "      <th>avg_glucose_level</th>\n",
              "      <th>bmi</th>\n",
              "      <th>smoking_status</th>\n",
              "    </tr>\n",
              "  </thead>\n",
              "  <tbody>\n",
              "    <tr>\n",
              "      <th>0</th>\n",
              "      <td>28932.0</td>\n",
              "      <td>Female</td>\n",
              "      <td>36.0</td>\n",
              "      <td>0.0</td>\n",
              "      <td>0.0</td>\n",
              "      <td>Yes</td>\n",
              "      <td>Private</td>\n",
              "      <td>Rural</td>\n",
              "      <td>67.29</td>\n",
              "      <td>36.7</td>\n",
              "      <td>formerly smoked</td>\n",
              "    </tr>\n",
              "    <tr>\n",
              "      <th>1</th>\n",
              "      <td>37150.0</td>\n",
              "      <td>Female</td>\n",
              "      <td>34.0</td>\n",
              "      <td>0.0</td>\n",
              "      <td>0.0</td>\n",
              "      <td>Yes</td>\n",
              "      <td>Private</td>\n",
              "      <td>Rural</td>\n",
              "      <td>83.53</td>\n",
              "      <td>48.5</td>\n",
              "      <td>formerly smoked</td>\n",
              "    </tr>\n",
              "    <tr>\n",
              "      <th>2</th>\n",
              "      <td>71669.0</td>\n",
              "      <td>Male</td>\n",
              "      <td>60.0</td>\n",
              "      <td>0.0</td>\n",
              "      <td>0.0</td>\n",
              "      <td>Yes</td>\n",
              "      <td>Private</td>\n",
              "      <td>Rural</td>\n",
              "      <td>65.16</td>\n",
              "      <td>30.8</td>\n",
              "      <td>never smoked</td>\n",
              "    </tr>\n",
              "    <tr>\n",
              "      <th>3</th>\n",
              "      <td>27153.0</td>\n",
              "      <td>Female</td>\n",
              "      <td>75.0</td>\n",
              "      <td>0.0</td>\n",
              "      <td>0.0</td>\n",
              "      <td>Yes</td>\n",
              "      <td>Self-employed</td>\n",
              "      <td>Rural</td>\n",
              "      <td>78.80</td>\n",
              "      <td>29.3</td>\n",
              "      <td>formerly smoked</td>\n",
              "    </tr>\n",
              "    <tr>\n",
              "      <th>4</th>\n",
              "      <td>58235.0</td>\n",
              "      <td>Male</td>\n",
              "      <td>76.0</td>\n",
              "      <td>0.0</td>\n",
              "      <td>0.0</td>\n",
              "      <td>Yes</td>\n",
              "      <td>Private</td>\n",
              "      <td>Urban</td>\n",
              "      <td>58.65</td>\n",
              "      <td>25.6</td>\n",
              "      <td>smokes</td>\n",
              "    </tr>\n",
              "    <tr>\n",
              "      <th>...</th>\n",
              "      <td>...</td>\n",
              "      <td>...</td>\n",
              "      <td>...</td>\n",
              "      <td>...</td>\n",
              "      <td>...</td>\n",
              "      <td>...</td>\n",
              "      <td>...</td>\n",
              "      <td>...</td>\n",
              "      <td>...</td>\n",
              "      <td>...</td>\n",
              "      <td>...</td>\n",
              "    </tr>\n",
              "    <tr>\n",
              "      <th>4083</th>\n",
              "      <td>30457.0</td>\n",
              "      <td>Female</td>\n",
              "      <td>53.0</td>\n",
              "      <td>1.0</td>\n",
              "      <td>0.0</td>\n",
              "      <td>Yes</td>\n",
              "      <td>Govt_job</td>\n",
              "      <td>Rural</td>\n",
              "      <td>98.61</td>\n",
              "      <td>38.8</td>\n",
              "      <td>smokes</td>\n",
              "    </tr>\n",
              "    <tr>\n",
              "      <th>4084</th>\n",
              "      <td>24836.0</td>\n",
              "      <td>Female</td>\n",
              "      <td>61.0</td>\n",
              "      <td>0.0</td>\n",
              "      <td>0.0</td>\n",
              "      <td>Yes</td>\n",
              "      <td>Private</td>\n",
              "      <td>Rural</td>\n",
              "      <td>72.01</td>\n",
              "      <td>26.0</td>\n",
              "      <td>formerly smoked</td>\n",
              "    </tr>\n",
              "    <tr>\n",
              "      <th>4085</th>\n",
              "      <td>17079.0</td>\n",
              "      <td>Male</td>\n",
              "      <td>44.0</td>\n",
              "      <td>0.0</td>\n",
              "      <td>0.0</td>\n",
              "      <td>Yes</td>\n",
              "      <td>Private</td>\n",
              "      <td>Rural</td>\n",
              "      <td>94.71</td>\n",
              "      <td>28.4</td>\n",
              "      <td>smokes</td>\n",
              "    </tr>\n",
              "    <tr>\n",
              "      <th>4086</th>\n",
              "      <td>72340.0</td>\n",
              "      <td>Male</td>\n",
              "      <td>21.0</td>\n",
              "      <td>0.0</td>\n",
              "      <td>0.0</td>\n",
              "      <td>No</td>\n",
              "      <td>Private</td>\n",
              "      <td>Urban</td>\n",
              "      <td>120.94</td>\n",
              "      <td>29.7</td>\n",
              "      <td>formerly smoked</td>\n",
              "    </tr>\n",
              "    <tr>\n",
              "      <th>4087</th>\n",
              "      <td>52242.0</td>\n",
              "      <td>Female</td>\n",
              "      <td>58.0</td>\n",
              "      <td>1.0</td>\n",
              "      <td>0.0</td>\n",
              "      <td>Yes</td>\n",
              "      <td>Govt_job</td>\n",
              "      <td>Rural</td>\n",
              "      <td>59.52</td>\n",
              "      <td>33.2</td>\n",
              "      <td>never smoked</td>\n",
              "    </tr>\n",
              "  </tbody>\n",
              "</table>\n",
              "<p>4088 rows × 11 columns</p>\n",
              "</div>\n",
              "      <button class=\"colab-df-convert\" onclick=\"convertToInteractive('df-526ca503-1897-47a0-a808-726686da4b2f')\"\n",
              "              title=\"Convert this dataframe to an interactive table.\"\n",
              "              style=\"display:none;\">\n",
              "        \n",
              "  <svg xmlns=\"http://www.w3.org/2000/svg\" height=\"24px\"viewBox=\"0 0 24 24\"\n",
              "       width=\"24px\">\n",
              "    <path d=\"M0 0h24v24H0V0z\" fill=\"none\"/>\n",
              "    <path d=\"M18.56 5.44l.94 2.06.94-2.06 2.06-.94-2.06-.94-.94-2.06-.94 2.06-2.06.94zm-11 1L8.5 8.5l.94-2.06 2.06-.94-2.06-.94L8.5 2.5l-.94 2.06-2.06.94zm10 10l.94 2.06.94-2.06 2.06-.94-2.06-.94-.94-2.06-.94 2.06-2.06.94z\"/><path d=\"M17.41 7.96l-1.37-1.37c-.4-.4-.92-.59-1.43-.59-.52 0-1.04.2-1.43.59L10.3 9.45l-7.72 7.72c-.78.78-.78 2.05 0 2.83L4 21.41c.39.39.9.59 1.41.59.51 0 1.02-.2 1.41-.59l7.78-7.78 2.81-2.81c.8-.78.8-2.07 0-2.86zM5.41 20L4 18.59l7.72-7.72 1.47 1.35L5.41 20z\"/>\n",
              "  </svg>\n",
              "      </button>\n",
              "      \n",
              "  <style>\n",
              "    .colab-df-container {\n",
              "      display:flex;\n",
              "      flex-wrap:wrap;\n",
              "      gap: 12px;\n",
              "    }\n",
              "\n",
              "    .colab-df-convert {\n",
              "      background-color: #E8F0FE;\n",
              "      border: none;\n",
              "      border-radius: 50%;\n",
              "      cursor: pointer;\n",
              "      display: none;\n",
              "      fill: #1967D2;\n",
              "      height: 32px;\n",
              "      padding: 0 0 0 0;\n",
              "      width: 32px;\n",
              "    }\n",
              "\n",
              "    .colab-df-convert:hover {\n",
              "      background-color: #E2EBFA;\n",
              "      box-shadow: 0px 1px 2px rgba(60, 64, 67, 0.3), 0px 1px 3px 1px rgba(60, 64, 67, 0.15);\n",
              "      fill: #174EA6;\n",
              "    }\n",
              "\n",
              "    [theme=dark] .colab-df-convert {\n",
              "      background-color: #3B4455;\n",
              "      fill: #D2E3FC;\n",
              "    }\n",
              "\n",
              "    [theme=dark] .colab-df-convert:hover {\n",
              "      background-color: #434B5C;\n",
              "      box-shadow: 0px 1px 3px 1px rgba(0, 0, 0, 0.15);\n",
              "      filter: drop-shadow(0px 1px 2px rgba(0, 0, 0, 0.3));\n",
              "      fill: #FFFFFF;\n",
              "    }\n",
              "  </style>\n",
              "\n",
              "      <script>\n",
              "        const buttonEl =\n",
              "          document.querySelector('#df-526ca503-1897-47a0-a808-726686da4b2f button.colab-df-convert');\n",
              "        buttonEl.style.display =\n",
              "          google.colab.kernel.accessAllowed ? 'block' : 'none';\n",
              "\n",
              "        async function convertToInteractive(key) {\n",
              "          const element = document.querySelector('#df-526ca503-1897-47a0-a808-726686da4b2f');\n",
              "          const dataTable =\n",
              "            await google.colab.kernel.invokeFunction('convertToInteractive',\n",
              "                                                     [key], {});\n",
              "          if (!dataTable) return;\n",
              "\n",
              "          const docLinkHtml = 'Like what you see? Visit the ' +\n",
              "            '<a target=\"_blank\" href=https://colab.research.google.com/notebooks/data_table.ipynb>data table notebook</a>'\n",
              "            + ' to learn more about interactive tables.';\n",
              "          element.innerHTML = '';\n",
              "          dataTable['output_type'] = 'display_data';\n",
              "          await google.colab.output.renderOutput(dataTable, element);\n",
              "          const docLink = document.createElement('div');\n",
              "          docLink.innerHTML = docLinkHtml;\n",
              "          element.appendChild(docLink);\n",
              "        }\n",
              "      </script>\n",
              "    </div>\n",
              "  </div>\n",
              "  "
            ],
            "text/plain": [
              "           id  gender   age  ...  avg_glucose_level   bmi   smoking_status\n",
              "0     28932.0  Female  36.0  ...              67.29  36.7  formerly smoked\n",
              "1     37150.0  Female  34.0  ...              83.53  48.5  formerly smoked\n",
              "2     71669.0    Male  60.0  ...              65.16  30.8     never smoked\n",
              "3     27153.0  Female  75.0  ...              78.80  29.3  formerly smoked\n",
              "4     58235.0    Male  76.0  ...              58.65  25.6           smokes\n",
              "...       ...     ...   ...  ...                ...   ...              ...\n",
              "4083  30457.0  Female  53.0  ...              98.61  38.8           smokes\n",
              "4084  24836.0  Female  61.0  ...              72.01  26.0  formerly smoked\n",
              "4085  17079.0    Male  44.0  ...              94.71  28.4           smokes\n",
              "4086  72340.0    Male  21.0  ...             120.94  29.7  formerly smoked\n",
              "4087  52242.0  Female  58.0  ...              59.52  33.2     never smoked\n",
              "\n",
              "[4088 rows x 11 columns]"
            ]
          },
          "metadata": {},
          "execution_count": 11
        }
      ]
    },
    {
      "cell_type": "markdown",
      "source": [
        "### Handling Text Features"
      ],
      "metadata": {
        "id": "ePkCydM5xS_C"
      }
    },
    {
      "cell_type": "markdown",
      "source": [
        "#### Label Encoder"
      ],
      "metadata": {
        "id": "UxQNw-WhxVd7"
      }
    },
    {
      "cell_type": "code",
      "source": [
        "categorical_features = []\n",
        "for col in data.columns:\n",
        "  if col=='Class':\n",
        "    continue\n",
        "  if is_string_dtype(data[col].dtype):\n",
        "    categorical_features.append(col)"
      ],
      "metadata": {
        "id": "KFAwWPnFuOwP"
      },
      "execution_count": null,
      "outputs": []
    },
    {
      "cell_type": "code",
      "source": [
        "categorical_features"
      ],
      "metadata": {
        "colab": {
          "base_uri": "https://localhost:8080/"
        },
        "id": "1EPHTwiquVBL",
        "outputId": "42d98670-43ec-4838-ab6f-8f0456fed014"
      },
      "execution_count": null,
      "outputs": [
        {
          "output_type": "execute_result",
          "data": {
            "text/plain": [
              "['gender', 'ever_married', 'work_type', 'Residence_type', 'smoking_status']"
            ]
          },
          "metadata": {},
          "execution_count": 13
        }
      ]
    },
    {
      "cell_type": "code",
      "source": [
        "from sklearn.preprocessing import LabelEncoder\n",
        "le = LabelEncoder()"
      ],
      "metadata": {
        "id": "KocIp8r-uWDp"
      },
      "execution_count": null,
      "outputs": []
    },
    {
      "cell_type": "code",
      "source": [
        "# Convert the Label Class \n",
        "\n",
        "y_train = le.fit_transform(y_train)\n",
        "y_test = le.transform(y_test)"
      ],
      "metadata": {
        "id": "ppVOP6X3uXSP"
      },
      "execution_count": null,
      "outputs": []
    },
    {
      "cell_type": "code",
      "source": [
        "l_X_train = pd.DataFrame() # Train dataset --> before scaling\n",
        "l_X_test = pd.DataFrame() # Test dataset --> before scaling"
      ],
      "metadata": {
        "id": "PFhH48E2ufUw"
      },
      "execution_count": null,
      "outputs": []
    },
    {
      "cell_type": "code",
      "source": [
        "# Convert the text features\n",
        "\n",
        "for column in X_train.columns:\n",
        "  if column in categorical_features:\n",
        "    l_X_train[column] = le.fit_transform(si_X_train[column])\n",
        "    l_X_test[column] = le.transform(si_X_test[column])\n",
        "  else:\n",
        "    l_X_train[column] = si_X_train[column].copy()\n",
        "    l_X_test[column] = si_X_test[column].copy()"
      ],
      "metadata": {
        "id": "WsbWoVebullX"
      },
      "execution_count": null,
      "outputs": []
    },
    {
      "cell_type": "code",
      "source": [
        "l_X_train.isnull().sum()"
      ],
      "metadata": {
        "colab": {
          "base_uri": "https://localhost:8080/"
        },
        "id": "NfxHnMS3upeQ",
        "outputId": "f55e7268-3338-4081-f8d5-ae91870d5668"
      },
      "execution_count": null,
      "outputs": [
        {
          "output_type": "execute_result",
          "data": {
            "text/plain": [
              "id                   0\n",
              "gender               0\n",
              "age                  0\n",
              "hypertension         0\n",
              "heart_disease        0\n",
              "ever_married         0\n",
              "work_type            0\n",
              "Residence_type       0\n",
              "avg_glucose_level    0\n",
              "bmi                  0\n",
              "smoking_status       0\n",
              "dtype: int64"
            ]
          },
          "metadata": {},
          "execution_count": 18
        }
      ]
    },
    {
      "cell_type": "markdown",
      "source": [
        "## Oversampling the dataset"
      ],
      "metadata": {
        "id": "i3n6eGjQxcKS"
      }
    },
    {
      "cell_type": "markdown",
      "source": [
        "whichever classess has less number of values, we will impute and increase the values in those classes"
      ],
      "metadata": {
        "id": "lHF7nvfrxoKL"
      }
    },
    {
      "cell_type": "code",
      "source": [
        "from imblearn.over_sampling import RandomOverSampler\n",
        "\n",
        "os=RandomOverSampler(0.75) # 75%\n",
        "l_X_train_ns,y_train_ns = os.fit_resample(l_X_train,y_train)\n",
        "\n",
        "print(\"The number of classes before fit {}\".format(Counter(y_train)))\n",
        "print(\"The number of classes after fit {}\".format(Counter(y_train_ns)))"
      ],
      "metadata": {
        "colab": {
          "base_uri": "https://localhost:8080/"
        },
        "id": "EGnMlnL9vXex",
        "outputId": "99263b80-c94f-4f9c-f09d-501c46e075d1"
      },
      "execution_count": null,
      "outputs": [
        {
          "output_type": "stream",
          "name": "stdout",
          "text": [
            "The number of classes before fit Counter({0: 3893, 1: 195})\n",
            "The number of classes after fit Counter({0: 3893, 1: 2919})\n"
          ]
        }
      ]
    },
    {
      "cell_type": "markdown",
      "source": [
        "## Feature Scaling"
      ],
      "metadata": {
        "id": "7BjqejcRJkgh"
      }
    },
    {
      "cell_type": "markdown",
      "source": [
        "#### Standardization"
      ],
      "metadata": {
        "id": "HzeHts6IJmQR"
      }
    },
    {
      "cell_type": "code",
      "source": [
        "from sklearn.preprocessing import StandardScaler\n",
        "ss = StandardScaler()\n",
        "\n",
        "l_X_train_ns = ss.fit_transform(l_X_train_ns)\n",
        "l_X_test = ss.transform(l_X_test)"
      ],
      "metadata": {
        "id": "xLTAvuj8u6Ku"
      },
      "execution_count": null,
      "outputs": []
    },
    {
      "cell_type": "code",
      "source": [
        "print(l_X_train)"
      ],
      "metadata": {
        "colab": {
          "base_uri": "https://localhost:8080/"
        },
        "id": "nOnlQ1KVvHPf",
        "outputId": "842cc569-6bb2-4809-f7e0-db297e9f8fbb"
      },
      "execution_count": null,
      "outputs": [
        {
          "output_type": "stream",
          "name": "stdout",
          "text": [
            "           id  gender   age  ...  avg_glucose_level   bmi  smoking_status\n",
            "0     28932.0       0  36.0  ...              67.29  36.7               1\n",
            "1     37150.0       0  34.0  ...              83.53  48.5               1\n",
            "2     71669.0       1  60.0  ...              65.16  30.8               2\n",
            "3     27153.0       0  75.0  ...              78.80  29.3               1\n",
            "4     58235.0       1  76.0  ...              58.65  25.6               3\n",
            "...       ...     ...   ...  ...                ...   ...             ...\n",
            "4083  30457.0       0  53.0  ...              98.61  38.8               3\n",
            "4084  24836.0       0  61.0  ...              72.01  26.0               1\n",
            "4085  17079.0       1  44.0  ...              94.71  28.4               3\n",
            "4086  72340.0       1  21.0  ...             120.94  29.7               1\n",
            "4087  52242.0       0  58.0  ...              59.52  33.2               2\n",
            "\n",
            "[4088 rows x 11 columns]\n"
          ]
        }
      ]
    },
    {
      "cell_type": "markdown",
      "source": [
        "## Model Building"
      ],
      "metadata": {
        "id": "RqDQfla1xuBo"
      }
    },
    {
      "cell_type": "markdown",
      "source": [
        "## Classification Evaluatin Metrics"
      ],
      "metadata": {
        "id": "FnPM8E7XJxd0"
      }
    },
    {
      "cell_type": "code",
      "source": [
        "from sklearn.metrics import accuracy_score, precision_score, recall_score, f1_score, matthews_corrcoef\n",
        "\n",
        "def evaluate_preds(y_test,y_pred):\n",
        "    accuracy = accuracy_score(y_test,y_pred)\n",
        "    precision = precision_score(y_test,y_pred)\n",
        "    recall = recall_score(y_test,y_pred) \n",
        "    f1 = f1_score(y_test,y_pred)\n",
        "    mcc = matthews_corrcoef(y_test,y_pred)\n",
        "\n",
        "    metric_dict = {\n",
        "        \"accuracy\":round(accuracy,2),\n",
        "        \"precision\":round(precision,2),\n",
        "        \"recall\":round(recall,2),\n",
        "        \"f1\":round(f1,2),\n",
        "        \"mcc\": mcc \n",
        "    } # A dictionary that stores the results of the evaluation metrics\n",
        "    \n",
        "    print(f\"Acc: {accuracy * 100:.2f}%\")\n",
        "    print(f\"Precision: {precision:.2f}\")\n",
        "    print(f\"Recall: {recall:.2f}\")\n",
        "    print(f\"F1 score: {f1:.2f}\")\n",
        "    print(f'MCC Score: {mcc:.2f}')\n",
        "    \n",
        "    return metric_dict"
      ],
      "metadata": {
        "id": "KPEJD6lcyELX"
      },
      "execution_count": null,
      "outputs": []
    },
    {
      "cell_type": "markdown",
      "source": [
        "### SVM"
      ],
      "metadata": {
        "id": "hG9IQlXtxyjw"
      }
    },
    {
      "cell_type": "code",
      "source": [
        "from sklearn.svm import SVC\n",
        "svc = SVC(kernel='rbf',random_state=0)\n",
        "svc.fit(l_X_train_ns,y_train_ns)"
      ],
      "metadata": {
        "colab": {
          "base_uri": "https://localhost:8080/"
        },
        "id": "oLKceh5SyBLs",
        "outputId": "479168e5-0976-4511-d1b8-06290c38db6f"
      },
      "execution_count": null,
      "outputs": [
        {
          "output_type": "execute_result",
          "data": {
            "text/plain": [
              "SVC(random_state=0)"
            ]
          },
          "metadata": {},
          "execution_count": 23
        }
      ]
    },
    {
      "cell_type": "code",
      "source": [
        "y_pred = svc.predict(l_X_test)\n",
        "model_metrics = evaluate_preds(y_test, y_pred)"
      ],
      "metadata": {
        "colab": {
          "base_uri": "https://localhost:8080/"
        },
        "id": "W58UKuNJyQdv",
        "outputId": "ee03d49c-82e5-4063-921b-f17f942679fd"
      },
      "execution_count": null,
      "outputs": [
        {
          "output_type": "stream",
          "name": "stdout",
          "text": [
            "Acc: 82.29%\n",
            "Precision: 0.14\n",
            "Recall: 0.46\n",
            "F1 score: 0.22\n",
            "MCC Score: 0.18\n"
          ]
        }
      ]
    },
    {
      "cell_type": "markdown",
      "source": [
        "### Naive Bayes"
      ],
      "metadata": {
        "id": "b9PP7yD3z2oW"
      }
    },
    {
      "cell_type": "code",
      "source": [
        "from sklearn.naive_bayes import GaussianNB\n",
        "naive = GaussianNB()\n",
        "naive.fit(l_X_train_ns,y_train_ns)"
      ],
      "metadata": {
        "colab": {
          "base_uri": "https://localhost:8080/"
        },
        "id": "4s7Lm_vCvLwL",
        "outputId": "eff45f87-3687-423c-842a-648c820c597f"
      },
      "execution_count": null,
      "outputs": [
        {
          "output_type": "execute_result",
          "data": {
            "text/plain": [
              "GaussianNB()"
            ]
          },
          "metadata": {},
          "execution_count": 25
        }
      ]
    },
    {
      "cell_type": "code",
      "source": [
        "y_pred = naive.predict(l_X_test)\n",
        "model_metrics = evaluate_preds(y_test, y_pred)"
      ],
      "metadata": {
        "colab": {
          "base_uri": "https://localhost:8080/"
        },
        "id": "2bMDd6W30laD",
        "outputId": "03bca2b4-b84a-432a-8885-5a71bade6596"
      },
      "execution_count": null,
      "outputs": [
        {
          "output_type": "stream",
          "name": "stdout",
          "text": [
            "Acc: 79.45%\n",
            "Precision: 0.16\n",
            "Recall: 0.70\n",
            "F1 score: 0.27\n",
            "MCC Score: 0.27\n"
          ]
        }
      ]
    },
    {
      "cell_type": "markdown",
      "source": [
        "### Logistic Regression"
      ],
      "metadata": {
        "id": "be7RuBjT0tmW"
      }
    },
    {
      "cell_type": "code",
      "source": [
        "from sklearn.linear_model import LogisticRegression\n",
        "\n",
        "logistic = LogisticRegression()\n",
        "logistic.fit(l_X_train_ns,y_train_ns)"
      ],
      "metadata": {
        "colab": {
          "base_uri": "https://localhost:8080/"
        },
        "id": "5xXQVRTr0qGE",
        "outputId": "cfeaffb8-537b-4421-dbee-5b65cb832543"
      },
      "execution_count": null,
      "outputs": [
        {
          "output_type": "execute_result",
          "data": {
            "text/plain": [
              "LogisticRegression()"
            ]
          },
          "metadata": {},
          "execution_count": 27
        }
      ]
    },
    {
      "cell_type": "code",
      "source": [
        "y_pred = logistic.predict(l_X_test)\n",
        "model_metrics = evaluate_preds(y_test, y_pred)"
      ],
      "metadata": {
        "colab": {
          "base_uri": "https://localhost:8080/"
        },
        "id": "sGDRC9ca1Qc2",
        "outputId": "7fa65abe-5c47-4aa0-ab07-418468039947"
      },
      "execution_count": null,
      "outputs": [
        {
          "output_type": "stream",
          "name": "stdout",
          "text": [
            "Acc: 81.02%\n",
            "Precision: 0.17\n",
            "Recall: 0.65\n",
            "F1 score: 0.27\n",
            "MCC Score: 0.26\n"
          ]
        }
      ]
    },
    {
      "cell_type": "markdown",
      "source": [
        "### k Nearest Neighbours"
      ],
      "metadata": {
        "id": "j6WX7fbb1Z5v"
      }
    },
    {
      "cell_type": "code",
      "source": [
        "from sklearn.neighbors import KNeighborsClassifier\n",
        "\n",
        "neigh = KNeighborsClassifier(n_neighbors=40)\n",
        "neigh.fit(l_X_train_ns,y_train_ns)"
      ],
      "metadata": {
        "colab": {
          "base_uri": "https://localhost:8080/"
        },
        "id": "JCkMWveK1X3z",
        "outputId": "6cc37330-ffbe-4338-c808-9bf15de4539f"
      },
      "execution_count": null,
      "outputs": [
        {
          "output_type": "execute_result",
          "data": {
            "text/plain": [
              "KNeighborsClassifier(n_neighbors=40)"
            ]
          },
          "metadata": {},
          "execution_count": 29
        }
      ]
    },
    {
      "cell_type": "code",
      "source": [
        "y_pred = neigh.predict(l_X_test)\n",
        "model_metrics = evaluate_preds(y_test, y_pred)"
      ],
      "metadata": {
        "colab": {
          "base_uri": "https://localhost:8080/"
        },
        "id": "RI0UKv-a2UwZ",
        "outputId": "04061892-b255-4bf0-ae87-9e8c8fab1b04"
      },
      "execution_count": null,
      "outputs": [
        {
          "output_type": "stream",
          "name": "stdout",
          "text": [
            "Acc: 76.32%\n",
            "Precision: 0.13\n",
            "Recall: 0.59\n",
            "F1 score: 0.21\n",
            "MCC Score: 0.19\n"
          ]
        }
      ]
    },
    {
      "cell_type": "markdown",
      "source": [
        "### RandomForestClassifier"
      ],
      "metadata": {
        "id": "ABIVk7Wk3D1N"
      }
    },
    {
      "cell_type": "code",
      "source": [
        "from sklearn.ensemble import RandomForestClassifier\n",
        "\n",
        "rf = RandomForestClassifier(n_estimators=500, n_jobs=-1, criterion='entropy')\n",
        "rf.fit(l_X_train_ns,y_train_ns)"
      ],
      "metadata": {
        "colab": {
          "base_uri": "https://localhost:8080/"
        },
        "id": "N4_kmNoD2izz",
        "outputId": "ec0b76ee-3a80-44e1-9cc3-61ea70623e9d"
      },
      "execution_count": null,
      "outputs": [
        {
          "output_type": "execute_result",
          "data": {
            "text/plain": [
              "RandomForestClassifier(criterion='entropy', n_estimators=500, n_jobs=-1)"
            ]
          },
          "metadata": {},
          "execution_count": 31
        }
      ]
    },
    {
      "cell_type": "code",
      "source": [
        "y_pred = rf.predict(l_X_test)\n",
        "model_metrics = evaluate_preds(y_test, y_pred)"
      ],
      "metadata": {
        "colab": {
          "base_uri": "https://localhost:8080/"
        },
        "id": "bziaapAq3MqB",
        "outputId": "31428a4f-cf81-47ba-e2f5-c3f526847fa4"
      },
      "execution_count": null,
      "outputs": [
        {
          "output_type": "stream",
          "name": "stdout",
          "text": [
            "Acc: 94.81%\n",
            "Precision: 1.00\n",
            "Recall: 0.02\n",
            "F1 score: 0.04\n",
            "MCC Score: 0.13\n"
          ]
        }
      ]
    },
    {
      "cell_type": "markdown",
      "source": [
        "## Hyperparameter Tuning"
      ],
      "metadata": {
        "id": "lpE5IQBL5IQF"
      }
    },
    {
      "cell_type": "code",
      "source": [
        "from sklearn.model_selection import RandomizedSearchCV"
      ],
      "metadata": {
        "id": "L60HBiov5Sya"
      },
      "execution_count": null,
      "outputs": []
    },
    {
      "cell_type": "markdown",
      "source": [
        "### SVM"
      ],
      "metadata": {
        "id": "VposFaio5MrX"
      }
    },
    {
      "cell_type": "code",
      "source": [
        "# RandomizedSearchCV will refit the estimator, i.e. model object using the best found parameters on the whole dataset.\n",
        "\n",
        "parameters = [ # list of different combination of hyperparameters that we want to test\n",
        "              {'C': [0.25, 0.5, 0.75, 1], 'kernel': ['linear']},\n",
        "              {'C': [0.25, 0.5, 0.75, 1], 'kernel': ['rbf'], 'gamma': [0.1, 0.2, 0.3, 0.4, 0.5, 0.6, 0.7, 0.8, 0.9]}\n",
        "]\n",
        "# also, two dictionaries --> for testing 2 different kernels. {key - parameters(name must match documentation), value - range of values to try}\n",
        "\n",
        "random_cv = RandomizedSearchCV(estimator = svc,\n",
        "                           param_distributions = parameters,\n",
        "                           scoring = 'accuracy', # evaluation metric. 'accuracy' for classification here\n",
        "                           cv = 5, # k = 5, no. of k-train test folds\n",
        "                           verbose=2, # print out the results\n",
        "                           n_jobs = -1, # set processor of machine. -1 --> means all processor will be in  use \n",
        "                           refit=True) \n",
        "\n",
        "# RandomizedSearchCV is only applied on train set\n",
        "random_cv.fit(l_X_train_ns, y_train_ns)\n",
        "\n",
        "# get best accuracy, and the set of parameters that led to that best accuracy\n",
        "best_accuracy = random_cv.best_score_\n",
        "best_parameters = random_cv.best_params_\n",
        "print(\"Best Accuracy: {:.2f} %\".format(best_accuracy*100))\n",
        "print(\"Best Parameters:\", best_parameters)"
      ],
      "metadata": {
        "colab": {
          "base_uri": "https://localhost:8080/"
        },
        "id": "6jEpncNO3srt",
        "outputId": "95fb4b81-19bd-4e15-f331-28ca773ac288"
      },
      "execution_count": null,
      "outputs": [
        {
          "output_type": "stream",
          "name": "stdout",
          "text": [
            "Fitting 5 folds for each of 10 candidates, totalling 50 fits\n",
            "Best Accuracy: 97.56 %\n",
            "Best Parameters: {'kernel': 'rbf', 'gamma': 0.8, 'C': 1}\n"
          ]
        }
      ]
    },
    {
      "cell_type": "markdown",
      "source": [
        "### Random Forest Classifier"
      ],
      "metadata": {
        "id": "iWcROA8k64lT"
      }
    },
    {
      "cell_type": "code",
      "source": [
        "parameters = [ # list of different combination of hyperparameters that we want to test\n",
        "              {'n_estimators': range(10,300,10), 'criterion': ['gini', 'entropy'], 'max_features':['auto','sqrt','log2']}\n",
        "]\n",
        "\n",
        "\n",
        "random_cv = RandomizedSearchCV(estimator = rf,\n",
        "                           param_distributions = parameters,\n",
        "                           scoring = 'accuracy', \n",
        "                           cv = 5, \n",
        "                           verbose=2, \n",
        "                           n_jobs = -1, \n",
        "                           refit=True) \n",
        "\n",
        "\n",
        "random_cv.fit(l_X_train_ns, y_train_ns)\n",
        "\n",
        "\n",
        "best_accuracy = random_cv.best_score_\n",
        "best_parameters = random_cv.best_params_\n",
        "print(\"Best Accuracy: {:.2f} %\".format(best_accuracy*100))\n",
        "print(\"Best Parameters:\", best_parameters)"
      ],
      "metadata": {
        "id": "lZoU6iuA5pBa",
        "colab": {
          "base_uri": "https://localhost:8080/"
        },
        "outputId": "fd708d1b-9df1-4241-f3d1-a3244ad22d7a"
      },
      "execution_count": null,
      "outputs": [
        {
          "output_type": "stream",
          "name": "stdout",
          "text": [
            "Fitting 5 folds for each of 10 candidates, totalling 50 fits\n",
            "Best Accuracy: 99.49 %\n",
            "Best Parameters: {'n_estimators': 80, 'max_features': 'sqrt', 'criterion': 'gini'}\n"
          ]
        }
      ]
    }
  ]
}